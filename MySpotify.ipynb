{
 "cells": [
  {
   "cell_type": "code",
   "execution_count": 2,
   "metadata": {},
   "outputs": [],
   "source": [
    "%load_ext autoreload\n",
    "%autoreload 2\n",
    "\n",
    "from MySpotify import MySpotify, DATA_FOLDER\n",
    "DATA_PATH = \"D:\\\\Projects\\\\42\\\\MySpotify\\\\data\"\n",
    "\n",
    "MySpotifyModule = MySpotify(DATA_PATH)"
   ]
  },
  {
   "cell_type": "code",
   "execution_count": 3,
   "metadata": {},
   "outputs": [
    {
     "name": "stdout",
     "output_type": "stream",
     "text": [
      "p02_msd_tagtraum_cd2 file already converted to parquet\n",
      "p02_unique_tracks file already converted to parquet\n",
      "mxm_dataset_train file already converted to parquet\n",
      "train_triplets file already converted to parquet\n"
     ]
    }
   ],
   "source": [
    "MySpotifyModule.PrepareData()"
   ]
  },
  {
   "cell_type": "code",
   "execution_count": 1,
   "metadata": {},
   "outputs": [
    {
     "ename": "NameError",
     "evalue": "name 'MySpotifyModule' is not defined",
     "output_type": "error",
     "traceback": [
      "\u001b[1;31m---------------------------------------------------------------------------\u001b[0m",
      "\u001b[1;31mNameError\u001b[0m                                 Traceback (most recent call last)",
      "Cell \u001b[1;32mIn[1], line 2\u001b[0m\n\u001b[0;32m      1\u001b[0m TopTracksNum \u001b[38;5;241m=\u001b[39m \u001b[38;5;241m10\u001b[39m\n\u001b[1;32m----> 2\u001b[0m best_tracks \u001b[38;5;241m=\u001b[39m \u001b[43mMySpotifyModule\u001b[49m\u001b[38;5;241m.\u001b[39mget_Top_Tracks(TopTracksNum)\n",
      "\u001b[1;31mNameError\u001b[0m: name 'MySpotifyModule' is not defined"
     ]
    }
   ],
   "source": [
    "TopTracksNum = 10\n",
    "best_tracks = MySpotifyModule.get_Top_Tracks(TopTracksNum)"
   ]
  },
  {
   "cell_type": "code",
   "execution_count": null,
   "metadata": {},
   "outputs": [],
   "source": [
    "best_tracks"
   ]
  },
  {
   "cell_type": "code",
   "execution_count": 11,
   "metadata": {},
   "outputs": [
    {
     "name": "stderr",
     "output_type": "stream",
     "text": [
      "Finding tracks by genre: 100%|██████████| 29/29 [00:00<00:00, 48.01it/s]\n"
     ]
    },
    {
     "name": "stdout",
     "output_type": "stream",
     "text": [
      "Found 133421 tracks with genre Rock\n"
     ]
    },
    {
     "name": "stderr",
     "output_type": "stream",
     "text": [
      "Finding tracks song_id by track_id: 100%|██████████| 100/100 [00:02<00:00, 35.67it/s]\n",
      "Finding best tracks by genre:   0%|          | 0/4838 [00:00<?, ?it/s]"
     ]
    },
    {
     "name": "stdout",
     "output_type": "stream",
     "text": [
      "FUCKING IN SOAKIMP12A8C130995\n",
      "FUCKING IN SOBFNSP12AF72A0E22\n",
      "FUCKING IN SOBYHAJ12A6701BF1D\n",
      "FUCKING IN SODACBL12A8C13C273\n",
      "FUCKING IN SODDNQT12A6D4F5F7E\n",
      "FUCKING IN SOEGVZY12A58A7857E\n",
      "FUCKING IN SOEOBYG12A6D4F8AE2\n",
      "FUCKING IN SOFFJPX12A6D4F7456\n",
      "FUCKING IN SOFGUAY12AB017B0A8\n",
      "FUCKING IN SOFRQTD12A81C233C0\n",
      "FUCKING IN SOGJAOS12A6D4F7459\n",
      "FUCKING IN SOHQIAG12A8C136F64\n",
      "FUCKING IN SOIQOQT12A8C136F96\n",
      "FUCKING IN SOISWBZ12A8C13C0F7\n",
      "FUCKING IN SOJNNUA12A8AE48C7A\n",
      "FUCKING IN SOKUZGZ12A8C136F88\n",
      "FUCKING IN SOLUHPJ12A8C13AB0F\n",
      "FUCKING IN SOLXHAI12A6D4FD6F3\n",
      "FUCKING IN SOMSQJY12A8C138539\n",
      "FUCKING IN SONKSNV12A58A7F654\n",
      "FUCKING IN SONRXOY12AB0181E84\n",
      "FUCKING IN SONSAEZ12A8C138D7A\n",
      "FUCKING IN SOOGGEX12A58A7DACF\n",
      "FUCKING IN SOQDBOA12A8C13E5E6\n",
      "FUCKING IN SOQIVUD12AB01821D2\n",
      "FUCKING IN SOQJLDY12AAF3B456D\n",
      "FUCKING IN SOQLCKR12A81C22440\n",
      "FUCKING IN SORDDVI12A8C136F53\n",
      "FUCKING IN SORQHCG12A58A7EEBA\n",
      "FUCKING IN SORWLTW12A670208FA\n",
      "FUCKING IN SOTHMIK12A8C136FA1\n",
      "FUCKING IN SOTRSFZ12A8C142BF6\n",
      "FUCKING IN SOUKXIN12A8C133C7F\n",
      "FUCKING IN SOVHRGF12A8C13852F\n",
      "FUCKING IN SOVYIYI12A8C138D88\n",
      "FUCKING IN SOVZRXZ12A58A77A88\n",
      "FUCKING IN SOWQLXP12AF72A08A2\n",
      "FUCKING IN SOXMIUS12A8C13CD59\n",
      "FUCKING IN SOXRXDG12A8C131DE5\n",
      "FUCKING IN SOXZQDE12A8C135833\n",
      "FUCKING IN SOZGCUB12A8C133997\n",
      "FUCKING IN SOLEBXE12B0B8062D3\n",
      "FUCKING IN SOUOAUF12A58A7EC58\n",
      "FUCKING IN SOCHBAJ12AAF3B3A4F\n",
      "FUCKING IN SOHRQZQ12A6D4F81D2\n",
      "FUCKING IN SOJGMYY12AB01809BE\n",
      "FUCKING IN SOPTASI12AB0183185\n",
      "FUCKING IN SOQFEDG12AB018DD24\n",
      "FUCKING IN SOSOREL12AB01831EA\n",
      "FUCKING IN SOVRZIX12AAF3B2A32\n",
      "FUCKING IN SOWBXWN12AB01837CF\n",
      "FUCKING IN SOUHQXW12A8C13CAB5\n",
      "FUCKING IN SOVHVBJ12A58A7AB0A\n",
      "FUCKING IN SOAOQFD12A6D4FAAA9\n",
      "FUCKING IN SOBFPJC12A58A7D1AB\n",
      "FUCKING IN SOBZZDU12A6310D8A3\n",
      "FUCKING IN SOHFHEP12A8C135C0E\n",
      "FUCKING IN SOLVRLL12A67020D7F\n",
      "FUCKING IN SONQEYS12AF72AABC9\n",
      "FUCKING IN SONZWDK12A6701F62B\n",
      "FUCKING IN SOPXRQT12A6701EAC9\n",
      "FUCKING IN SOUFPNI12A8C142D19\n",
      "FUCKING IN SOXIIIM12A6D4F66C8\n",
      "FUCKING IN SOZRBOZ12A58A7AD7E\n",
      "FUCKING IN SOWEHOM12A6BD4E09E\n",
      "FUCKING IN SOWPAXV12A67ADA046\n",
      "FUCKING IN SOAUWYT12A81C206F1\n",
      "FUCKING IN SOBTRCD12A6701E976\n",
      "FUCKING IN SODEOCO12A6701E922\n",
      "FUCKING IN SOEKGDE12AB0182795\n"
     ]
    },
    {
     "name": "stderr",
     "output_type": "stream",
     "text": [
      "\n"
     ]
    },
    {
     "ename": "KeyError",
     "evalue": "'SOFRQTD12A81C233C0'",
     "output_type": "error",
     "traceback": [
      "\u001b[1;31m---------------------------------------------------------------------------\u001b[0m",
      "\u001b[1;31mKeyError\u001b[0m                                  Traceback (most recent call last)",
      "Cell \u001b[1;32mIn[11], line 2\u001b[0m\n\u001b[0;32m      1\u001b[0m TopTracksByGenreNum \u001b[38;5;241m=\u001b[39m \u001b[38;5;241m10\u001b[39m\n\u001b[1;32m----> 2\u001b[0m best_tracks_by_genre \u001b[38;5;241m=\u001b[39m \u001b[43mMySpotifyModule\u001b[49m\u001b[38;5;241;43m.\u001b[39;49m\u001b[43mget_Top_Tracks_By_Genre\u001b[49m\u001b[43m(\u001b[49m\u001b[38;5;124;43m\"\u001b[39;49m\u001b[38;5;124;43mRock\u001b[39;49m\u001b[38;5;124;43m\"\u001b[39;49m\u001b[43m,\u001b[49m\u001b[43m \u001b[49m\u001b[43mTopTracksByGenreNum\u001b[49m\u001b[43m)\u001b[49m\n",
      "File \u001b[1;32md:\\Projects\\42\\MySpotify\\MySpotify.py:47\u001b[0m, in \u001b[0;36mMySpotify.get_Top_Tracks_By_Genre\u001b[1;34m(self, genre, numoftracks)\u001b[0m\n\u001b[0;32m     46\u001b[0m \u001b[38;5;28;01mdef\u001b[39;00m\u001b[38;5;250m \u001b[39m\u001b[38;5;21mget_Top_Tracks_By_Genre\u001b[39m(\u001b[38;5;28mself\u001b[39m, genre : \u001b[38;5;28mstr\u001b[39m\u001b[38;5;241m=\u001b[39m\u001b[38;5;124m\"\u001b[39m\u001b[38;5;124mRock\u001b[39m\u001b[38;5;124m\"\u001b[39m, numoftracks\u001b[38;5;241m=\u001b[39m\u001b[38;5;241m100\u001b[39m):\n\u001b[1;32m---> 47\u001b[0m     \u001b[38;5;28;01mreturn\u001b[39;00m \u001b[43mget_best_tracks_by_genre\u001b[49m\u001b[43m(\u001b[49m\u001b[38;5;28;43mself\u001b[39;49m\u001b[38;5;241;43m.\u001b[39;49m\u001b[43m_uniqueTracks\u001b[49m\u001b[43m,\u001b[49m\u001b[43m \u001b[49m\u001b[38;5;28;43mself\u001b[39;49m\u001b[38;5;241;43m.\u001b[39;49m\u001b[43m_trainTriplets\u001b[49m\u001b[43m,\u001b[49m\u001b[43m \u001b[49m\u001b[38;5;28;43mself\u001b[39;49m\u001b[38;5;241;43m.\u001b[39;49m\u001b[43m_msdData\u001b[49m\u001b[43m,\u001b[49m\u001b[43m \u001b[49m\u001b[43mnumoftracks\u001b[49m\u001b[43m,\u001b[49m\u001b[43m \u001b[49m\u001b[43mgenre\u001b[49m\u001b[43m)\u001b[49m\n",
      "File \u001b[1;32md:\\Projects\\42\\MySpotify\\utils\\Top_Tracks_Genre.py:107\u001b[0m, in \u001b[0;36mget_best_tracks_by_genre\u001b[1;34m(uniqueTracks, trainTriplets, msdData, numoftracks, genre)\u001b[0m\n\u001b[0;32m    105\u001b[0m     \u001b[38;5;28;01mreturn\u001b[39;00m pd\u001b[38;5;241m.\u001b[39mDataFrame(columns\u001b[38;5;241m=\u001b[39m[\u001b[38;5;124m\"\u001b[39m\u001b[38;5;124mtrack_id\u001b[39m\u001b[38;5;124m\"\u001b[39m, \u001b[38;5;124m\"\u001b[39m\u001b[38;5;124msong_id\u001b[39m\u001b[38;5;124m\"\u001b[39m, \u001b[38;5;124m\"\u001b[39m\u001b[38;5;124martist_name\u001b[39m\u001b[38;5;124m\"\u001b[39m, \u001b[38;5;124m\"\u001b[39m\u001b[38;5;124mtitle\u001b[39m\u001b[38;5;124m\"\u001b[39m, \u001b[38;5;124m\"\u001b[39m\u001b[38;5;124mplay_count\u001b[39m\u001b[38;5;124m\"\u001b[39m])\n\u001b[0;32m    106\u001b[0m Tracks_data \u001b[38;5;241m=\u001b[39m get_tracks_genre_data_by_id(uniqueTracks, Tracks)\n\u001b[1;32m--> 107\u001b[0m Tracks_data \u001b[38;5;241m=\u001b[39m \u001b[43mget_top_tracks_by_genre\u001b[49m\u001b[43m(\u001b[49m\u001b[43mtrainTriplets\u001b[49m\u001b[43m,\u001b[49m\u001b[43m \u001b[49m\u001b[43mTracks_data\u001b[49m\u001b[43m,\u001b[49m\u001b[43m \u001b[49m\u001b[43mnumoftracks\u001b[49m\u001b[43m)\u001b[49m\n\u001b[0;32m    108\u001b[0m \u001b[38;5;28;01mreturn\u001b[39;00m Tracks_data\n",
      "File \u001b[1;32md:\\Projects\\42\\MySpotify\\utils\\Top_Tracks_Genre.py:85\u001b[0m, in \u001b[0;36mget_top_tracks_by_genre\u001b[1;34m(trainTriplets, Tracks_data, numoftracks)\u001b[0m\n\u001b[0;32m     83\u001b[0m \u001b[38;5;28;01mif\u001b[39;00m song_id \u001b[38;5;129;01min\u001b[39;00m tracks_map:\n\u001b[0;32m     84\u001b[0m     \u001b[38;5;28mprint\u001b[39m(\u001b[38;5;124mf\u001b[39m\u001b[38;5;124m\"\u001b[39m\u001b[38;5;124mFUCKING IN \u001b[39m\u001b[38;5;132;01m{\u001b[39;00msong_id\u001b[38;5;132;01m}\u001b[39;00m\u001b[38;5;124m\"\u001b[39m)\n\u001b[1;32m---> 85\u001b[0m track_data \u001b[38;5;241m=\u001b[39m \u001b[43mtracks_map\u001b[49m\u001b[38;5;241;43m.\u001b[39;49m\u001b[43mpop\u001b[49m\u001b[43m(\u001b[49m\u001b[43msong_id\u001b[49m\u001b[43m)\u001b[49m\n\u001b[0;32m     86\u001b[0m track_data[\u001b[38;5;124m\"\u001b[39m\u001b[38;5;124mplay_count\u001b[39m\u001b[38;5;124m\"\u001b[39m] \u001b[38;5;241m=\u001b[39m filtered_dict[\u001b[38;5;124m\"\u001b[39m\u001b[38;5;124mplay_count\u001b[39m\u001b[38;5;124m\"\u001b[39m][i]\n\u001b[0;32m     87\u001b[0m \u001b[38;5;28;01mif\u001b[39;00m \u001b[38;5;28mlen\u001b[39m(best_tracks) \u001b[38;5;241m<\u001b[39m numoftracks:\n",
      "\u001b[1;31mKeyError\u001b[0m: 'SOFRQTD12A81C233C0'"
     ]
    }
   ],
   "source": [
    "TopTracksByGenreNum = 10\n",
    "best_tracks_by_genre = MySpotifyModule.get_Top_Tracks_By_Genre(\"Rock\", TopTracksByGenreNum)\n"
   ]
  },
  {
   "cell_type": "code",
   "execution_count": 17,
   "metadata": {},
   "outputs": [
    {
     "name": "stderr",
     "output_type": "stream",
     "text": [
      "Finding play count: 100%|██████████| 4838/4838 [01:58<00:00, 40.91it/s]\n"
     ]
    }
   ],
   "source": [
    "from utils.Prepare_data import play_count_prepare\n",
    "\n",
    "test_data = play_count_prepare(MySpotifyModule._trainTriplets, \"best_tracks_by_genre\")"
   ]
  },
  {
   "cell_type": "code",
   "execution_count": null,
   "metadata": {},
   "outputs": [],
   "source": []
  }
 ],
 "metadata": {
  "kernelspec": {
   "display_name": "MySpotify-env",
   "language": "python",
   "name": "python3"
  },
  "language_info": {
   "codemirror_mode": {
    "name": "ipython",
    "version": 3
   },
   "file_extension": ".py",
   "mimetype": "text/x-python",
   "name": "python",
   "nbconvert_exporter": "python",
   "pygments_lexer": "ipython3",
   "version": "3.12.8"
  }
 },
 "nbformat": 4,
 "nbformat_minor": 2
}
