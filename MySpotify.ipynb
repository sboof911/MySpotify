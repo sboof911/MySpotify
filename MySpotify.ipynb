{
 "cells": [
  {
   "cell_type": "markdown",
   "metadata": {},
   "source": [
    "# MySpotify"
   ]
  },
  {
   "cell_type": "markdown",
   "metadata": {},
   "source": [
    "## Install requirements"
   ]
  },
  {
   "cell_type": "code",
   "execution_count": null,
   "metadata": {},
   "outputs": [],
   "source": [
    "%pip install -r requirements.txt"
   ]
  },
  {
   "cell_type": "markdown",
   "metadata": {},
   "source": [
    "## Initilizing MySpotify Module"
   ]
  },
  {
   "cell_type": "code",
   "execution_count": 1,
   "metadata": {},
   "outputs": [
    {
     "name": "stdout",
     "output_type": "stream",
     "text": [
      "All files are present!\n"
     ]
    },
    {
     "name": "stderr",
     "output_type": "stream",
     "text": [
      "/home/codespace/.local/lib/python3.12/site-packages/tqdm/auto.py:21: TqdmWarning: IProgress not found. Please update jupyter and ipywidgets. See https://ipywidgets.readthedocs.io/en/stable/user_install.html\n",
      "  from .autonotebook import tqdm as notebook_tqdm\n",
      "/home/codespace/.python/current/lib/python3.12/site-packages/implicit/cpu/als.py:95: RuntimeWarning: OpenBLAS is configured to use 4 threads. It is highly recommended to disable its internal threadpool by setting the environment variable 'OPENBLAS_NUM_THREADS=1' or by calling 'threadpoolctl.threadpool_limits(1, \"blas\")'. Having OpenBLAS use a threadpool can lead to severe performance issues here.\n",
      "  check_blas_config()\n",
      "[nltk_data] Downloading package wordnet to\n",
      "[nltk_data]     /home/codespace/nltk_data...\n",
      "[nltk_data]   Package wordnet is already up-to-date!\n",
      "[nltk_data] Downloading package stopwords to\n",
      "[nltk_data]     /home/codespace/nltk_data...\n",
      "[nltk_data]   Package stopwords is already up-to-date!\n"
     ]
    }
   ],
   "source": [
    "%reload_ext autoreload\n",
    "%autoreload 2\n",
    "\n",
    "DEBUG_MODE = True\n",
    "\n",
    "from MySpotify import MySpotify, os\n",
    "import requests\n",
    "\n",
    "# Need always to reload the link to download the data\n",
    "if not os.path.exists(\"data.zip\"):\n",
    "    download_link = \"\"\n",
    "\n",
    "    response = requests.get(download_link)\n",
    "    with open(\"data.zip\", \"wb\") as file:\n",
    "        file.write(response.content)\n",
    "\n",
    "\n",
    "SpotifyModule = MySpotify(\"data.zip\", DEBUG_MODE)"
   ]
  },
  {
   "cell_type": "markdown",
   "metadata": {},
   "source": [
    "## Preprocessing Data"
   ]
  },
  {
   "cell_type": "markdown",
   "metadata": {},
   "source": [
    "### Convert files from csv to parquet"
   ]
  },
  {
   "cell_type": "code",
   "execution_count": null,
   "metadata": {},
   "outputs": [],
   "source": [
    "SpotifyModule.convert_files()"
   ]
  },
  {
   "cell_type": "markdown",
   "metadata": {},
   "source": [
    "### Merge the Data into one parquet file"
   ]
  },
  {
   "cell_type": "code",
   "execution_count": null,
   "metadata": {},
   "outputs": [],
   "source": [
    "SpotifyModule.PreProcess_Data()"
   ]
  },
  {
   "cell_type": "markdown",
   "metadata": {},
   "source": [
    "## Display DataFrame"
   ]
  },
  {
   "cell_type": "code",
   "execution_count": null,
   "metadata": {},
   "outputs": [],
   "source": [
    "from IPython.display import HTML, display, clear_output\n",
    "\n",
    "def display_scrollable_df(df, height=400):\n",
    "    html = df.to_html()\n",
    "    scrollable = f'<div style=\"height: {height}px; overflow: auto;\">{html}</div>'\n",
    "    display(HTML(scrollable))"
   ]
  },
  {
   "cell_type": "markdown",
   "metadata": {},
   "source": [
    "## Top Tracks"
   ]
  },
  {
   "cell_type": "markdown",
   "metadata": {},
   "source": [
    "### Top 100 tracks by the play count"
   ]
  },
  {
   "cell_type": "code",
   "execution_count": null,
   "metadata": {},
   "outputs": [],
   "source": [
    "TopTracksNum = 100\n",
    "best_tracks = SpotifyModule.get_Top_Tracks(TopTracksNum)\n",
    "display_scrollable_df(best_tracks)"
   ]
  },
  {
   "cell_type": "markdown",
   "metadata": {},
   "source": [
    "### Top 100 tracks by genre"
   ]
  },
  {
   "cell_type": "code",
   "execution_count": null,
   "metadata": {},
   "outputs": [],
   "source": [
    "\n",
    "TopTracksByGenreNum = 100\n",
    "genre_list = [\"Rock\", \"Rap\", \"Jazz\", \"Electronic\", \"Pop\", \"Blues\", \"Country\", \"Reggae\", \"New Age\"]\n",
    "for genre in genre_list:\n",
    "    clear_output(wait=True)\n",
    "    best_tracks_by_genre = SpotifyModule.Get_TopTracks_By_Genre(TopTracksByGenreNum, genre)\n",
    "    display_scrollable_df(best_tracks_by_genre)\n",
    "    key = input(\"Press Enter to continue to the next genre, or type something and press Enter to exit: \")\n",
    "    if key != \"\":\n",
    "        break\n"
   ]
  },
  {
   "cell_type": "markdown",
   "metadata": {},
   "source": [
    "## Collections"
   ]
  },
  {
   "cell_type": "markdown",
   "metadata": {},
   "source": [
    "### Using Baseline"
   ]
  },
  {
   "cell_type": "code",
   "execution_count": null,
   "metadata": {},
   "outputs": [],
   "source": [
    "Collections = [\"love\", \"war\",\"happiness\", \"loneliness\", \"money\"]\n",
    "Num_of_tracks = 50\n",
    "for theme in Collections:\n",
    "    clear_output(wait=True)\n",
    "    Baseline = SpotifyModule.Baseline(theme, Num_of_tracks)\n",
    "    display_scrollable_df(Baseline)\n",
    "    key = input(\"Press Enter to continue to the next genre, or type something and press Enter to exit: \")\n",
    "    if key != \"\":\n",
    "        break"
   ]
  },
  {
   "cell_type": "markdown",
   "metadata": {},
   "source": [
    "### Using Word2Vec"
   ]
  },
  {
   "cell_type": "code",
   "execution_count": null,
   "metadata": {},
   "outputs": [],
   "source": [
    "Collections = [\"love\", \"war\",\"happiness\", \"loneliness\", \"money\"]\n",
    "Num_of_tracks = 50\n",
    "for theme in Collections:\n",
    "    clear_output(wait=True)\n",
    "    Word2Vec = SpotifyModule.Word2Vec(theme, Num_of_tracks)\n",
    "    display_scrollable_df(Word2Vec)\n",
    "    key = input(\"Press Enter to continue to the next genre, or type something and press Enter to exit: \")\n",
    "    if key != \"\":\n",
    "        break"
   ]
  },
  {
   "cell_type": "markdown",
   "metadata": {},
   "source": [
    "### Using Classifier"
   ]
  },
  {
   "cell_type": "code",
   "execution_count": null,
   "metadata": {},
   "outputs": [],
   "source": [
    "Collections = [\"love\", \"war\",\"happiness\", \"loneliness\", \"money\"]\n",
    "Num_of_tracks = 50\n",
    "for theme in Collections:\n",
    "    clear_output(wait=True)\n",
    "    Classification = SpotifyModule.Classification(Collections, theme, Num_of_tracks)\n",
    "    display_scrollable_df(Classification)\n",
    "    key = input(\"Press Enter to continue to the next genre, or type something and press Enter to exit: \")\n",
    "    if key != \"\":\n",
    "        break\n"
   ]
  },
  {
   "cell_type": "markdown",
   "metadata": {},
   "source": [
    "## Recommendations"
   ]
  },
  {
   "cell_type": "markdown",
   "metadata": {},
   "source": [
    "### Similar to a User listening"
   ]
  },
  {
   "cell_type": "code",
   "execution_count": 2,
   "metadata": {},
   "outputs": [
    {
     "name": "stderr",
     "output_type": "stream",
     "text": [
      "Mapping Users: 100%|██████████| 1019318/1019318 [00:00<00:00, 1917409.98it/s]\n",
      "Mapping Songs: 100%|██████████| 384546/384546 [00:00<00:00, 1995305.03it/s]\n"
     ]
    },
    {
     "name": "stdout",
     "output_type": "stream",
     "text": [
      "Fitting Model\n"
     ]
    },
    {
     "name": "stderr",
     "output_type": "stream",
     "text": [
      "100%|██████████| 1/1 [00:08<00:00,  8.20s/it]\n"
     ]
    },
    {
     "name": "stdout",
     "output_type": "stream",
     "text": [
      "2\n"
     ]
    },
    {
     "ename": "ValueError",
     "evalue": "too many values to unpack (expected 2)",
     "output_type": "error",
     "traceback": [
      "\u001b[0;31m---------------------------------------------------------------------------\u001b[0m",
      "\u001b[0;31mValueError\u001b[0m                                Traceback (most recent call last)",
      "Cell \u001b[0;32mIn[2], line 2\u001b[0m\n\u001b[1;32m      1\u001b[0m user_id \u001b[38;5;241m=\u001b[39m \u001b[38;5;124m\"\u001b[39m\u001b[38;5;124m19a63dbfea18904260bfe9c35cabb711ce01d2a6\u001b[39m\u001b[38;5;124m\"\u001b[39m\n\u001b[0;32m----> 2\u001b[0m \u001b[43mSpotifyModule\u001b[49m\u001b[38;5;241;43m.\u001b[39;49m\u001b[43m_Recommendations\u001b[49m\u001b[38;5;241;43m.\u001b[39;49m\u001b[43mget_similar_tracks\u001b[49m\u001b[43m(\u001b[49m\u001b[43muser_id\u001b[49m\u001b[43m)\u001b[49m\n",
      "File \u001b[0;32m/workspaces/MySpotify/Recommendations/Recommendations.py:78\u001b[0m, in \u001b[0;36mRecommendations.get_similar_tracks\u001b[0;34m(self, user_id, num_of_tracks)\u001b[0m\n\u001b[1;32m     76\u001b[0m \u001b[38;5;28;01mdef\u001b[39;00m \u001b[38;5;21mget_similar_tracks\u001b[39m(\u001b[38;5;28mself\u001b[39m, user_id, num_of_tracks\u001b[38;5;241m=\u001b[39m\u001b[38;5;241m10\u001b[39m):\n\u001b[1;32m     77\u001b[0m     \u001b[38;5;28;01mif\u001b[39;00m \u001b[38;5;28mself\u001b[39m\u001b[38;5;241m.\u001b[39m_train_matrix \u001b[38;5;129;01mis\u001b[39;00m \u001b[38;5;28;01mNone\u001b[39;00m:\n\u001b[0;32m---> 78\u001b[0m         \u001b[38;5;28mself\u001b[39m\u001b[38;5;241m.\u001b[39m_train_matrix \u001b[38;5;241m=\u001b[39m \u001b[38;5;28;43mself\u001b[39;49m\u001b[38;5;241;43m.\u001b[39;49m\u001b[43mfit\u001b[49m\u001b[43m(\u001b[49m\u001b[43m)\u001b[49m\n\u001b[1;32m     79\u001b[0m     user_items \u001b[38;5;241m=\u001b[39m \u001b[38;5;28mself\u001b[39m\u001b[38;5;241m.\u001b[39m_train_matrix[\u001b[38;5;28mself\u001b[39m\u001b[38;5;241m.\u001b[39m_MapData[\u001b[38;5;124m\"\u001b[39m\u001b[38;5;124muser_to_int\u001b[39m\u001b[38;5;124m\"\u001b[39m][user_id]]\n\u001b[1;32m     81\u001b[0m     scores \u001b[38;5;241m=\u001b[39m \u001b[38;5;28mself\u001b[39m\u001b[38;5;241m.\u001b[39m_model\u001b[38;5;241m.\u001b[39mrecommend(user_id, user_items, N\u001b[38;5;241m=\u001b[39mnum_of_tracks)\n",
      "File \u001b[0;32m/workspaces/MySpotify/Recommendations/Recommendations.py:71\u001b[0m, in \u001b[0;36mRecommendations.fit\u001b[0;34m(self)\u001b[0m\n\u001b[1;32m     69\u001b[0m \u001b[38;5;28mprint\u001b[39m(\u001b[38;5;124m\"\u001b[39m\u001b[38;5;124mFitting Model\u001b[39m\u001b[38;5;124m\"\u001b[39m)\n\u001b[1;32m     70\u001b[0m \u001b[38;5;28mself\u001b[39m\u001b[38;5;241m.\u001b[39m_model\u001b[38;5;241m.\u001b[39mfit(train_matrix, show_progress\u001b[38;5;241m=\u001b[39m\u001b[38;5;28;01mTrue\u001b[39;00m)\n\u001b[0;32m---> 71\u001b[0m precision \u001b[38;5;241m=\u001b[39m \u001b[38;5;28;43mself\u001b[39;49m\u001b[38;5;241;43m.\u001b[39;49m\u001b[43mprecision_at_k\u001b[49m\u001b[43m(\u001b[49m\u001b[43mtest_data\u001b[49m\u001b[43m,\u001b[49m\u001b[43m \u001b[49m\u001b[43mtrain_matrix\u001b[49m\u001b[43m)\u001b[49m\n\u001b[1;32m     72\u001b[0m \u001b[38;5;28mprint\u001b[39m(\u001b[38;5;124mf\u001b[39m\u001b[38;5;124m\"\u001b[39m\u001b[38;5;124mPrecision at k: \u001b[39m\u001b[38;5;132;01m{\u001b[39;00mprecision\u001b[38;5;132;01m:\u001b[39;00m\u001b[38;5;124m.2f\u001b[39m\u001b[38;5;132;01m}\u001b[39;00m\u001b[38;5;124m/100\u001b[39m\u001b[38;5;124m\"\u001b[39m)\n\u001b[1;32m     74\u001b[0m \u001b[38;5;28;01mreturn\u001b[39;00m train_matrix\n",
      "File \u001b[0;32m/workspaces/MySpotify/Recommendations/Recommendations.py:50\u001b[0m, in \u001b[0;36mRecommendations.precision_at_k\u001b[0;34m(self, test_data, user_item_matrix, k)\u001b[0m\n\u001b[1;32m     46\u001b[0m test_tracks \u001b[38;5;241m=\u001b[39m \u001b[38;5;28mset\u001b[39m(test_data[test_data[\u001b[38;5;124m\"\u001b[39m\u001b[38;5;124muser_id\u001b[39m\u001b[38;5;124m\"\u001b[39m] \u001b[38;5;241m==\u001b[39m user][\u001b[38;5;124m\"\u001b[39m\u001b[38;5;124msong_id\u001b[39m\u001b[38;5;124m\"\u001b[39m])\n\u001b[1;32m     47\u001b[0m \u001b[38;5;28mprint\u001b[39m(\u001b[38;5;28mlen\u001b[39m(\u001b[38;5;28mself\u001b[39m\u001b[38;5;241m.\u001b[39m_model\u001b[38;5;241m.\u001b[39mrecommend(user, user_item_matrix[user], N\u001b[38;5;241m=\u001b[39mk)))\n\u001b[1;32m     49\u001b[0m recommended_tracks \u001b[38;5;241m=\u001b[39m [\n\u001b[0;32m---> 50\u001b[0m     track \u001b[38;5;28;01mfor\u001b[39;00m track, _ \u001b[38;5;129;01min\u001b[39;00m \u001b[38;5;28mself\u001b[39m\u001b[38;5;241m.\u001b[39m_model\u001b[38;5;241m.\u001b[39mrecommend(user, user_item_matrix[user], N\u001b[38;5;241m=\u001b[39mk)\n\u001b[1;32m     51\u001b[0m ]\n\u001b[1;32m     53\u001b[0m hits \u001b[38;5;241m+\u001b[39m\u001b[38;5;241m=\u001b[39m \u001b[38;5;28mlen\u001b[39m(\u001b[38;5;28mset\u001b[39m(recommended_tracks) \u001b[38;5;241m&\u001b[39m test_tracks)\n\u001b[1;32m     54\u001b[0m total \u001b[38;5;241m+\u001b[39m\u001b[38;5;241m=\u001b[39m \u001b[38;5;28mlen\u001b[39m(test_tracks)\n",
      "\u001b[0;31mValueError\u001b[0m: too many values to unpack (expected 2)"
     ]
    }
   ],
   "source": [
    "user_id = \"19a63dbfea18904260bfe9c35cabb711ce01d2a6\"\n",
    "SpotifyModule._Recommendations.get_similar_tracks(user_id)"
   ]
  },
  {
   "cell_type": "code",
   "execution_count": null,
   "metadata": {},
   "outputs": [],
   "source": [
    "from pyarrow.parquet import ParquetFile\n",
    "import pandas as pd\n",
    "\n",
    "pf = ParquetFile(\"data/parquet/Merged_tracks_data.parquet\")\n",
    "\n",
    "# df : pd.DataFrame = pf.read().to_pandas()\n",
    "print(pf.metadata.schema.names)"
   ]
  },
  {
   "cell_type": "code",
   "execution_count": null,
   "metadata": {},
   "outputs": [],
   "source": []
  }
 ],
 "metadata": {
  "kernelspec": {
   "display_name": "Python 3",
   "language": "python",
   "name": "python3"
  },
  "language_info": {
   "codemirror_mode": {
    "name": "ipython",
    "version": 3
   },
   "file_extension": ".py",
   "mimetype": "text/x-python",
   "name": "python",
   "nbconvert_exporter": "python",
   "pygments_lexer": "ipython3",
   "version": "3.12.1"
  }
 },
 "nbformat": 4,
 "nbformat_minor": 2
}
