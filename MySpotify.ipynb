{
 "cells": [
  {
   "cell_type": "markdown",
   "metadata": {},
   "source": [
    "# MySpotify"
   ]
  },
  {
   "cell_type": "markdown",
   "metadata": {},
   "source": [
    "## Initilizing MySpotify Module"
   ]
  },
  {
   "cell_type": "code",
   "execution_count": 1,
   "metadata": {},
   "outputs": [
    {
     "name": "stderr",
     "output_type": "stream",
     "text": [
      "/opt/conda/envs/MySpotify/lib/python3.10/site-packages/tqdm/auto.py:21: TqdmWarning: IProgress not found. Please update jupyter and ipywidgets. See https://ipywidgets.readthedocs.io/en/stable/user_install.html\n",
      "  from .autonotebook import tqdm as notebook_tqdm\n",
      "/opt/conda/envs/MySpotify/lib/python3.10/site-packages/implicit/cpu/als.py:95: RuntimeWarning: OpenBLAS is configured to use 4 threads. It is highly recommended to disable its internal threadpool by setting the environment variable 'OPENBLAS_NUM_THREADS=1' or by calling 'threadpoolctl.threadpool_limits(1, \"blas\")'. Having OpenBLAS use a threadpool can lead to severe performance issues here.\n",
      "  check_blas_config()\n",
      "[nltk_data] Downloading package wordnet to\n",
      "[nltk_data]     /home/codespace/nltk_data...\n"
     ]
    },
    {
     "name": "stdout",
     "output_type": "stream",
     "text": [
      "All files are present!\n"
     ]
    },
    {
     "name": "stderr",
     "output_type": "stream",
     "text": [
      "[nltk_data]   Package wordnet is already up-to-date!\n",
      "[nltk_data] Downloading package stopwords to\n",
      "[nltk_data]     /home/codespace/nltk_data...\n",
      "[nltk_data]   Package stopwords is already up-to-date!\n"
     ]
    }
   ],
   "source": [
    "%reload_ext autoreload\n",
    "%autoreload 2\n",
    "\n",
    "DEBUG_MODE = True\n",
    "\n",
    "from MySpotify import MySpotify, os\n",
    "import requests\n",
    "\n",
    "# Need always to reload the link to download the data\n",
    "if not os.path.exists(\"data.zip\"):\n",
    "    download_link = \"\"\n",
    "\n",
    "    response = requests.get(download_link)\n",
    "    with open(\"data.zip\", \"wb\") as file:\n",
    "        file.write(response.content)\n",
    "\n",
    "\n",
    "SpotifyModule = MySpotify(\"data.zip\", DEBUG_MODE)"
   ]
  },
  {
   "cell_type": "markdown",
   "metadata": {},
   "source": [
    "## Preprocessing Data"
   ]
  },
  {
   "cell_type": "markdown",
   "metadata": {},
   "source": [
    "### Convert files from csv to parquet"
   ]
  },
  {
   "cell_type": "code",
   "execution_count": null,
   "metadata": {},
   "outputs": [],
   "source": [
    "SpotifyModule.convert_files()"
   ]
  },
  {
   "cell_type": "markdown",
   "metadata": {},
   "source": [
    "### Merge the Data into one parquet file"
   ]
  },
  {
   "cell_type": "code",
   "execution_count": null,
   "metadata": {},
   "outputs": [],
   "source": [
    "SpotifyModule.PreProcess_Data()"
   ]
  },
  {
   "cell_type": "markdown",
   "metadata": {},
   "source": [
    "## Display DataFrame"
   ]
  },
  {
   "cell_type": "code",
   "execution_count": null,
   "metadata": {},
   "outputs": [],
   "source": [
    "from IPython.display import HTML, display, clear_output\n",
    "\n",
    "def display_scrollable_df(df, height=400):\n",
    "    html = df.to_html()\n",
    "    scrollable = f'<div style=\"height: {height}px; overflow: auto;\">{html}</div>'\n",
    "    display(HTML(scrollable))"
   ]
  },
  {
   "cell_type": "markdown",
   "metadata": {},
   "source": [
    "## Top Tracks"
   ]
  },
  {
   "cell_type": "markdown",
   "metadata": {},
   "source": [
    "### Top 100 tracks by the play count"
   ]
  },
  {
   "cell_type": "code",
   "execution_count": null,
   "metadata": {},
   "outputs": [],
   "source": [
    "TopTracksNum = 100\n",
    "best_tracks = SpotifyModule.get_Top_Tracks(TopTracksNum)\n",
    "display_scrollable_df(best_tracks)"
   ]
  },
  {
   "cell_type": "markdown",
   "metadata": {},
   "source": [
    "### Top 100 tracks by genre"
   ]
  },
  {
   "cell_type": "code",
   "execution_count": null,
   "metadata": {},
   "outputs": [],
   "source": [
    "\n",
    "TopTracksByGenreNum = 100\n",
    "genre_list = [\"Rock\", \"Rap\", \"Jazz\", \"Electronic\", \"Pop\", \"Blues\", \"Country\", \"Reggae\", \"New Age\"]\n",
    "for genre in genre_list:\n",
    "    clear_output(wait=True)\n",
    "    best_tracks_by_genre = SpotifyModule.Get_TopTracks_By_Genre(TopTracksByGenreNum, genre)\n",
    "    display_scrollable_df(best_tracks_by_genre)\n",
    "    key = input(\"Press Enter to continue to the next genre, or type something and press Enter to exit: \")\n",
    "    if key != \"\":\n",
    "        break\n"
   ]
  },
  {
   "cell_type": "markdown",
   "metadata": {},
   "source": [
    "## Collections"
   ]
  },
  {
   "cell_type": "markdown",
   "metadata": {},
   "source": [
    "### Using Baseline"
   ]
  },
  {
   "cell_type": "code",
   "execution_count": null,
   "metadata": {},
   "outputs": [],
   "source": [
    "Collections = [\"love\", \"war\",\"happiness\", \"loneliness\", \"money\"]\n",
    "Num_of_tracks = 50\n",
    "for theme in Collections:\n",
    "    clear_output(wait=True)\n",
    "    Baseline = SpotifyModule.Baseline(theme, Num_of_tracks)\n",
    "    display_scrollable_df(Baseline)\n",
    "    key = input(\"Press Enter to continue to the next genre, or type something and press Enter to exit: \")\n",
    "    if key != \"\":\n",
    "        break"
   ]
  },
  {
   "cell_type": "markdown",
   "metadata": {},
   "source": [
    "### Using Word2Vec"
   ]
  },
  {
   "cell_type": "code",
   "execution_count": null,
   "metadata": {},
   "outputs": [],
   "source": [
    "Collections = [\"love\", \"war\",\"happiness\", \"loneliness\", \"money\"]\n",
    "Num_of_tracks = 50\n",
    "for theme in Collections:\n",
    "    clear_output(wait=True)\n",
    "    Word2Vec = SpotifyModule.Word2Vec(theme, Num_of_tracks)\n",
    "    display_scrollable_df(Word2Vec)\n",
    "    key = input(\"Press Enter to continue to the next genre, or type something and press Enter to exit: \")\n",
    "    if key != \"\":\n",
    "        break"
   ]
  },
  {
   "cell_type": "markdown",
   "metadata": {},
   "source": [
    "### Using Classifier"
   ]
  },
  {
   "cell_type": "code",
   "execution_count": null,
   "metadata": {},
   "outputs": [],
   "source": [
    "Collections = [\"love\", \"war\",\"happiness\", \"loneliness\", \"money\"]\n",
    "Num_of_tracks = 50\n",
    "for theme in Collections:\n",
    "    clear_output(wait=True)\n",
    "    Classification = SpotifyModule.Classification(Collections, theme, Num_of_tracks)\n",
    "    display_scrollable_df(Classification)\n",
    "    key = input(\"Press Enter to continue to the next genre, or type something and press Enter to exit: \")\n",
    "    if key != \"\":\n",
    "        break\n"
   ]
  },
  {
   "cell_type": "markdown",
   "metadata": {},
   "source": [
    "## Recommendations"
   ]
  },
  {
   "cell_type": "markdown",
   "metadata": {},
   "source": [
    "### Similar to a User listening"
   ]
  },
  {
   "cell_type": "code",
   "execution_count": 2,
   "metadata": {},
   "outputs": [
    {
     "name": "stdout",
     "output_type": "stream",
     "text": [
      "Reading Data\n"
     ]
    },
    {
     "name": "stderr",
     "output_type": "stream",
     "text": [
      "Mapping Users: 100%|██████████| 1019318/1019318 [00:00<00:00, 1453956.35it/s]\n",
      "Mapping Songs: 100%|██████████| 384546/384546 [00:00<00:00, 1625549.60it/s]\n"
     ]
    },
    {
     "name": "stdout",
     "output_type": "stream",
     "text": [
      "Fitting Model\n"
     ]
    },
    {
     "name": "stderr",
     "output_type": "stream",
     "text": [
      "100%|██████████| 20/20 [26:19<00:00, 78.97s/it]\n",
      "Calculating Precision: 100%|██████████| 9885/9885 [01:59<00:00, 82.64it/s]\n"
     ]
    },
    {
     "name": "stdout",
     "output_type": "stream",
     "text": [
      "Precision at k: 79.80/100\n"
     ]
    },
    {
     "data": {
      "application/vnd.microsoft.datawrangler.viewer.v0+json": {
       "columns": [
        {
         "name": "index",
         "rawType": "int64",
         "type": "integer"
        },
        {
         "name": "song_id",
         "rawType": "object",
         "type": "string"
        },
        {
         "name": "likelihood",
         "rawType": "float32",
         "type": "float"
        }
       ],
       "conversionMethod": "pd.DataFrame",
       "ref": "05a78569-d2ee-4318-ac1f-cd38a5f856ce",
       "rows": [
        [
         "0",
         "SODCNJX12A6D4F93CB",
         "1.1881071"
        ],
        [
         "1",
         "SOWEWRL12A58A7961F",
         "0.96377707"
        ],
        [
         "2",
         "SOKVDJM12A8C13B274",
         "0.93372107"
        ],
        [
         "3",
         "SOAVGOD12A6D4F7783",
         "0.9035251"
        ],
        [
         "4",
         "SOLHJSQ12AB018CE33",
         "0.8905675"
        ],
        [
         "5",
         "SOYYIMV12A8C13E4ED",
         "0.8696084"
        ],
        [
         "6",
         "SOTMYHL12AAA8C666E",
         "0.86738896"
        ],
        [
         "7",
         "SOROHAU12A67ADBCE0",
         "0.8322706"
        ],
        [
         "8",
         "SOINIUZ12A67ADF6D8",
         "0.8310808"
        ],
        [
         "9",
         "SOZXHYA12A8C145274",
         "0.8307612"
        ]
       ],
       "shape": {
        "columns": 2,
        "rows": 10
       }
      },
      "text/html": [
       "<div>\n",
       "<style scoped>\n",
       "    .dataframe tbody tr th:only-of-type {\n",
       "        vertical-align: middle;\n",
       "    }\n",
       "\n",
       "    .dataframe tbody tr th {\n",
       "        vertical-align: top;\n",
       "    }\n",
       "\n",
       "    .dataframe thead th {\n",
       "        text-align: right;\n",
       "    }\n",
       "</style>\n",
       "<table border=\"1\" class=\"dataframe\">\n",
       "  <thead>\n",
       "    <tr style=\"text-align: right;\">\n",
       "      <th></th>\n",
       "      <th>song_id</th>\n",
       "      <th>likelihood</th>\n",
       "    </tr>\n",
       "  </thead>\n",
       "  <tbody>\n",
       "    <tr>\n",
       "      <th>0</th>\n",
       "      <td>SODCNJX12A6D4F93CB</td>\n",
       "      <td>1.188107</td>\n",
       "    </tr>\n",
       "    <tr>\n",
       "      <th>1</th>\n",
       "      <td>SOWEWRL12A58A7961F</td>\n",
       "      <td>0.963777</td>\n",
       "    </tr>\n",
       "    <tr>\n",
       "      <th>2</th>\n",
       "      <td>SOKVDJM12A8C13B274</td>\n",
       "      <td>0.933721</td>\n",
       "    </tr>\n",
       "    <tr>\n",
       "      <th>3</th>\n",
       "      <td>SOAVGOD12A6D4F7783</td>\n",
       "      <td>0.903525</td>\n",
       "    </tr>\n",
       "    <tr>\n",
       "      <th>4</th>\n",
       "      <td>SOLHJSQ12AB018CE33</td>\n",
       "      <td>0.890567</td>\n",
       "    </tr>\n",
       "    <tr>\n",
       "      <th>5</th>\n",
       "      <td>SOYYIMV12A8C13E4ED</td>\n",
       "      <td>0.869608</td>\n",
       "    </tr>\n",
       "    <tr>\n",
       "      <th>6</th>\n",
       "      <td>SOTMYHL12AAA8C666E</td>\n",
       "      <td>0.867389</td>\n",
       "    </tr>\n",
       "    <tr>\n",
       "      <th>7</th>\n",
       "      <td>SOROHAU12A67ADBCE0</td>\n",
       "      <td>0.832271</td>\n",
       "    </tr>\n",
       "    <tr>\n",
       "      <th>8</th>\n",
       "      <td>SOINIUZ12A67ADF6D8</td>\n",
       "      <td>0.831081</td>\n",
       "    </tr>\n",
       "    <tr>\n",
       "      <th>9</th>\n",
       "      <td>SOZXHYA12A8C145274</td>\n",
       "      <td>0.830761</td>\n",
       "    </tr>\n",
       "  </tbody>\n",
       "</table>\n",
       "</div>"
      ],
      "text/plain": [
       "              song_id  likelihood\n",
       "0  SODCNJX12A6D4F93CB    1.188107\n",
       "1  SOWEWRL12A58A7961F    0.963777\n",
       "2  SOKVDJM12A8C13B274    0.933721\n",
       "3  SOAVGOD12A6D4F7783    0.903525\n",
       "4  SOLHJSQ12AB018CE33    0.890567\n",
       "5  SOYYIMV12A8C13E4ED    0.869608\n",
       "6  SOTMYHL12AAA8C666E    0.867389\n",
       "7  SOROHAU12A67ADBCE0    0.832271\n",
       "8  SOINIUZ12A67ADF6D8    0.831081\n",
       "9  SOZXHYA12A8C145274    0.830761"
      ]
     },
     "execution_count": 2,
     "metadata": {},
     "output_type": "execute_result"
    }
   ],
   "source": [
    "user_id = \"19a63dbfea18904260bfe9c35cabb711ce01d2a6\"\n",
    "SpotifyModule._Recommendations.get_similar_tracks(user_id)"
   ]
  },
  {
   "cell_type": "code",
   "execution_count": 18,
   "metadata": {},
   "outputs": [
    {
     "name": "stdout",
     "output_type": "stream",
     "text": [
      "[('SOWCEMD12A8C137121', 0.9999998), ('SOHBIEQ12A8C13710F', 0.92835695), ('SOFUZMG12A8C137116', 0.92491394), ('SONQQMT12A8C13711A', 0.92471963), ('SOBNBWX12A8C13E6BA', 0.92405015), ('SONDUWO12A8C13712C', 0.9213742), ('SOEHCHY12A58A7C960', 0.91692907), ('SORQJVE12AB018184F', 0.91516685), ('SOZAOJF12B0B80BCBA', 0.91285753), ('SOYPYFT12AF72A1D58', 0.91003656)]\n"
     ]
    },
    {
     "data": {
      "application/vnd.microsoft.datawrangler.viewer.v0+json": {
       "columns": [
        {
         "name": "index",
         "rawType": "int64",
         "type": "integer"
        },
        {
         "name": "song_id",
         "rawType": "object",
         "type": "string"
        },
        {
         "name": "likelihood",
         "rawType": "float32",
         "type": "float"
        }
       ],
       "conversionMethod": "pd.DataFrame",
       "ref": "2dc39a21-3d0e-40ba-a589-72a54e3f18c9",
       "rows": [
        [
         "0",
         "SOWCEMD12A8C137121",
         "0.9999998"
        ],
        [
         "1",
         "SOHBIEQ12A8C13710F",
         "0.92835695"
        ],
        [
         "2",
         "SOFUZMG12A8C137116",
         "0.92491394"
        ],
        [
         "3",
         "SONQQMT12A8C13711A",
         "0.92471963"
        ],
        [
         "4",
         "SOBNBWX12A8C13E6BA",
         "0.92405015"
        ],
        [
         "5",
         "SONDUWO12A8C13712C",
         "0.9213742"
        ],
        [
         "6",
         "SOEHCHY12A58A7C960",
         "0.91692907"
        ],
        [
         "7",
         "SORQJVE12AB018184F",
         "0.91516685"
        ],
        [
         "8",
         "SOZAOJF12B0B80BCBA",
         "0.91285753"
        ],
        [
         "9",
         "SOYPYFT12AF72A1D58",
         "0.91003656"
        ]
       ],
       "shape": {
        "columns": 2,
        "rows": 10
       }
      },
      "text/html": [
       "<div>\n",
       "<style scoped>\n",
       "    .dataframe tbody tr th:only-of-type {\n",
       "        vertical-align: middle;\n",
       "    }\n",
       "\n",
       "    .dataframe tbody tr th {\n",
       "        vertical-align: top;\n",
       "    }\n",
       "\n",
       "    .dataframe thead th {\n",
       "        text-align: right;\n",
       "    }\n",
       "</style>\n",
       "<table border=\"1\" class=\"dataframe\">\n",
       "  <thead>\n",
       "    <tr style=\"text-align: right;\">\n",
       "      <th></th>\n",
       "      <th>song_id</th>\n",
       "      <th>likelihood</th>\n",
       "    </tr>\n",
       "  </thead>\n",
       "  <tbody>\n",
       "    <tr>\n",
       "      <th>0</th>\n",
       "      <td>SOWCEMD12A8C137121</td>\n",
       "      <td>1.000000</td>\n",
       "    </tr>\n",
       "    <tr>\n",
       "      <th>1</th>\n",
       "      <td>SOHBIEQ12A8C13710F</td>\n",
       "      <td>0.928357</td>\n",
       "    </tr>\n",
       "    <tr>\n",
       "      <th>2</th>\n",
       "      <td>SOFUZMG12A8C137116</td>\n",
       "      <td>0.924914</td>\n",
       "    </tr>\n",
       "    <tr>\n",
       "      <th>3</th>\n",
       "      <td>SONQQMT12A8C13711A</td>\n",
       "      <td>0.924720</td>\n",
       "    </tr>\n",
       "    <tr>\n",
       "      <th>4</th>\n",
       "      <td>SOBNBWX12A8C13E6BA</td>\n",
       "      <td>0.924050</td>\n",
       "    </tr>\n",
       "    <tr>\n",
       "      <th>5</th>\n",
       "      <td>SONDUWO12A8C13712C</td>\n",
       "      <td>0.921374</td>\n",
       "    </tr>\n",
       "    <tr>\n",
       "      <th>6</th>\n",
       "      <td>SOEHCHY12A58A7C960</td>\n",
       "      <td>0.916929</td>\n",
       "    </tr>\n",
       "    <tr>\n",
       "      <th>7</th>\n",
       "      <td>SORQJVE12AB018184F</td>\n",
       "      <td>0.915167</td>\n",
       "    </tr>\n",
       "    <tr>\n",
       "      <th>8</th>\n",
       "      <td>SOZAOJF12B0B80BCBA</td>\n",
       "      <td>0.912858</td>\n",
       "    </tr>\n",
       "    <tr>\n",
       "      <th>9</th>\n",
       "      <td>SOYPYFT12AF72A1D58</td>\n",
       "      <td>0.910037</td>\n",
       "    </tr>\n",
       "  </tbody>\n",
       "</table>\n",
       "</div>"
      ],
      "text/plain": [
       "              song_id  likelihood\n",
       "0  SOWCEMD12A8C137121    1.000000\n",
       "1  SOHBIEQ12A8C13710F    0.928357\n",
       "2  SOFUZMG12A8C137116    0.924914\n",
       "3  SONQQMT12A8C13711A    0.924720\n",
       "4  SOBNBWX12A8C13E6BA    0.924050\n",
       "5  SONDUWO12A8C13712C    0.921374\n",
       "6  SOEHCHY12A58A7C960    0.916929\n",
       "7  SORQJVE12AB018184F    0.915167\n",
       "8  SOZAOJF12B0B80BCBA    0.912858\n",
       "9  SOYPYFT12AF72A1D58    0.910037"
      ]
     },
     "execution_count": 18,
     "metadata": {},
     "output_type": "execute_result"
    }
   ],
   "source": [
    "song_id = \"SOWCEMD12A8C137121\"\n",
    "\n",
    "SpotifyModule._Recommendations.get_common_listened_tracks(song_id)"
   ]
  },
  {
   "cell_type": "code",
   "execution_count": null,
   "metadata": {},
   "outputs": [],
   "source": []
  },
  {
   "cell_type": "code",
   "execution_count": null,
   "metadata": {},
   "outputs": [],
   "source": []
  },
  {
   "cell_type": "code",
   "execution_count": null,
   "metadata": {},
   "outputs": [],
   "source": [
    "from pyarrow.parquet import ParquetFile\n",
    "import pandas as pd\n",
    "\n",
    "pf = ParquetFile(\"data/parquet/Merged_tracks_data.parquet\")\n",
    "\n",
    "# df : pd.DataFrame = pf.read().to_pandas()\n",
    "print(pf.metadata.schema.names)"
   ]
  },
  {
   "cell_type": "code",
   "execution_count": null,
   "metadata": {},
   "outputs": [],
   "source": []
  }
 ],
 "metadata": {
  "kernelspec": {
   "display_name": "MySpotify",
   "language": "python",
   "name": "python3"
  },
  "language_info": {
   "codemirror_mode": {
    "name": "ipython",
    "version": 3
   },
   "file_extension": ".py",
   "mimetype": "text/x-python",
   "name": "python",
   "nbconvert_exporter": "python",
   "pygments_lexer": "ipython3",
   "version": "3.10.16"
  }
 },
 "nbformat": 4,
 "nbformat_minor": 2
}
