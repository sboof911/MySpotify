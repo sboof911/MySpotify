{
 "cells": [
  {
   "cell_type": "markdown",
   "metadata": {},
   "source": [
    "# MySpotify"
   ]
  },
  {
   "cell_type": "markdown",
   "metadata": {},
   "source": [
    "## Install requirements"
   ]
  },
  {
   "cell_type": "code",
   "execution_count": null,
   "metadata": {},
   "outputs": [],
   "source": [
    "%pip install -r requirements.txt"
   ]
  },
  {
   "cell_type": "markdown",
   "metadata": {},
   "source": [
    "## Initilizing MySpotify Module"
   ]
  },
  {
   "cell_type": "code",
   "execution_count": 1,
   "metadata": {},
   "outputs": [
    {
     "name": "stdout",
     "output_type": "stream",
     "text": [
      "All files are present!\n"
     ]
    },
    {
     "name": "stderr",
     "output_type": "stream",
     "text": [
      "/home/codespace/.local/lib/python3.12/site-packages/tqdm/auto.py:21: TqdmWarning: IProgress not found. Please update jupyter and ipywidgets. See https://ipywidgets.readthedocs.io/en/stable/user_install.html\n",
      "  from .autonotebook import tqdm as notebook_tqdm\n",
      "/home/codespace/.python/current/lib/python3.12/site-packages/implicit/cpu/als.py:95: RuntimeWarning: OpenBLAS is configured to use 4 threads. It is highly recommended to disable its internal threadpool by setting the environment variable 'OPENBLAS_NUM_THREADS=1' or by calling 'threadpoolctl.threadpool_limits(1, \"blas\")'. Having OpenBLAS use a threadpool can lead to severe performance issues here.\n",
      "  check_blas_config()\n",
      "[nltk_data] Downloading package wordnet to\n",
      "[nltk_data]     /home/codespace/nltk_data...\n",
      "[nltk_data]   Package wordnet is already up-to-date!\n",
      "[nltk_data] Downloading package stopwords to\n",
      "[nltk_data]     /home/codespace/nltk_data...\n",
      "[nltk_data]   Package stopwords is already up-to-date!\n"
     ]
    }
   ],
   "source": [
    "%reload_ext autoreload\n",
    "%autoreload 2\n",
    "\n",
    "DEBUG_MODE = True\n",
    "\n",
    "from MySpotify import MySpotify, os\n",
    "import requests\n",
    "\n",
    "# Need always to reload the link to download the data\n",
    "if not os.path.exists(\"data.zip\"):\n",
    "    download_link = \"\"\n",
    "\n",
    "    response = requests.get(download_link)\n",
    "    with open(\"data.zip\", \"wb\") as file:\n",
    "        file.write(response.content)\n",
    "\n",
    "\n",
    "SpotifyModule = MySpotify(\"data.zip\", DEBUG_MODE)"
   ]
  },
  {
   "cell_type": "markdown",
   "metadata": {},
   "source": [
    "## Preprocessing Data"
   ]
  },
  {
   "cell_type": "markdown",
   "metadata": {},
   "source": [
    "### Convert files from csv to parquet"
   ]
  },
  {
   "cell_type": "code",
   "execution_count": null,
   "metadata": {},
   "outputs": [],
   "source": [
    "SpotifyModule.convert_files()"
   ]
  },
  {
   "cell_type": "markdown",
   "metadata": {},
   "source": [
    "### Merge the Data into one parquet file"
   ]
  },
  {
   "cell_type": "code",
   "execution_count": null,
   "metadata": {},
   "outputs": [],
   "source": [
    "SpotifyModule.PreProcess_Data()"
   ]
  },
  {
   "cell_type": "markdown",
   "metadata": {},
   "source": [
    "## Display DataFrame"
   ]
  },
  {
   "cell_type": "code",
   "execution_count": null,
   "metadata": {},
   "outputs": [],
   "source": [
    "from IPython.display import HTML, display, clear_output\n",
    "\n",
    "def display_scrollable_df(df, height=400):\n",
    "    html = df.to_html()\n",
    "    scrollable = f'<div style=\"height: {height}px; overflow: auto;\">{html}</div>'\n",
    "    display(HTML(scrollable))"
   ]
  },
  {
   "cell_type": "markdown",
   "metadata": {},
   "source": [
    "## Top Tracks"
   ]
  },
  {
   "cell_type": "markdown",
   "metadata": {},
   "source": [
    "### Top 100 tracks by the play count"
   ]
  },
  {
   "cell_type": "code",
   "execution_count": null,
   "metadata": {},
   "outputs": [],
   "source": [
    "TopTracksNum = 100\n",
    "best_tracks = SpotifyModule.get_Top_Tracks(TopTracksNum)\n",
    "display_scrollable_df(best_tracks)"
   ]
  },
  {
   "cell_type": "markdown",
   "metadata": {},
   "source": [
    "### Top 100 tracks by genre"
   ]
  },
  {
   "cell_type": "code",
   "execution_count": null,
   "metadata": {},
   "outputs": [],
   "source": [
    "\n",
    "TopTracksByGenreNum = 100\n",
    "genre_list = [\"Rock\", \"Rap\", \"Jazz\", \"Electronic\", \"Pop\", \"Blues\", \"Country\", \"Reggae\", \"New Age\"]\n",
    "for genre in genre_list:\n",
    "    clear_output(wait=True)\n",
    "    best_tracks_by_genre = SpotifyModule.Get_TopTracks_By_Genre(TopTracksByGenreNum, genre)\n",
    "    display_scrollable_df(best_tracks_by_genre)\n",
    "    key = input(\"Press Enter to continue to the next genre, or type something and press Enter to exit: \")\n",
    "    if key != \"\":\n",
    "        break\n"
   ]
  },
  {
   "cell_type": "markdown",
   "metadata": {},
   "source": [
    "## Collections"
   ]
  },
  {
   "cell_type": "markdown",
   "metadata": {},
   "source": [
    "### Using Baseline"
   ]
  },
  {
   "cell_type": "code",
   "execution_count": null,
   "metadata": {},
   "outputs": [],
   "source": [
    "Collections = [\"love\", \"war\",\"happiness\", \"loneliness\", \"money\"]\n",
    "Num_of_tracks = 50\n",
    "for theme in Collections:\n",
    "    clear_output(wait=True)\n",
    "    Baseline = SpotifyModule.Baseline(theme, Num_of_tracks)\n",
    "    display_scrollable_df(Baseline)\n",
    "    key = input(\"Press Enter to continue to the next genre, or type something and press Enter to exit: \")\n",
    "    if key != \"\":\n",
    "        break"
   ]
  },
  {
   "cell_type": "markdown",
   "metadata": {},
   "source": [
    "### Using Word2Vec"
   ]
  },
  {
   "cell_type": "code",
   "execution_count": null,
   "metadata": {},
   "outputs": [],
   "source": [
    "Collections = [\"love\", \"war\",\"happiness\", \"loneliness\", \"money\"]\n",
    "Num_of_tracks = 50\n",
    "for theme in Collections:\n",
    "    clear_output(wait=True)\n",
    "    Word2Vec = SpotifyModule.Word2Vec(theme, Num_of_tracks)\n",
    "    display_scrollable_df(Word2Vec)\n",
    "    key = input(\"Press Enter to continue to the next genre, or type something and press Enter to exit: \")\n",
    "    if key != \"\":\n",
    "        break"
   ]
  },
  {
   "cell_type": "markdown",
   "metadata": {},
   "source": [
    "### Using Classifier"
   ]
  },
  {
   "cell_type": "code",
   "execution_count": null,
   "metadata": {},
   "outputs": [],
   "source": [
    "Collections = [\"love\", \"war\",\"happiness\", \"loneliness\", \"money\"]\n",
    "Num_of_tracks = 50\n",
    "for theme in Collections:\n",
    "    clear_output(wait=True)\n",
    "    Classification = SpotifyModule.Classification(Collections, theme, Num_of_tracks)\n",
    "    display_scrollable_df(Classification)\n",
    "    key = input(\"Press Enter to continue to the next genre, or type something and press Enter to exit: \")\n",
    "    if key != \"\":\n",
    "        break\n"
   ]
  },
  {
   "cell_type": "markdown",
   "metadata": {},
   "source": [
    "## Recommendations"
   ]
  },
  {
   "cell_type": "markdown",
   "metadata": {},
   "source": [
    "### Similar to a User listening"
   ]
  },
  {
   "cell_type": "code",
   "execution_count": 8,
   "metadata": {},
   "outputs": [
    {
     "data": {
      "text/html": [
       "<div>\n",
       "<style scoped>\n",
       "    .dataframe tbody tr th:only-of-type {\n",
       "        vertical-align: middle;\n",
       "    }\n",
       "\n",
       "    .dataframe tbody tr th {\n",
       "        vertical-align: top;\n",
       "    }\n",
       "\n",
       "    .dataframe thead th {\n",
       "        text-align: right;\n",
       "    }\n",
       "</style>\n",
       "<table border=\"1\" class=\"dataframe\">\n",
       "  <thead>\n",
       "    <tr style=\"text-align: right;\">\n",
       "      <th></th>\n",
       "      <th>song_id</th>\n",
       "      <th>likelihood</th>\n",
       "    </tr>\n",
       "  </thead>\n",
       "  <tbody>\n",
       "    <tr>\n",
       "      <th>0</th>\n",
       "      <td>SODJWHY12A8C142CCE</td>\n",
       "      <td>0.143798</td>\n",
       "    </tr>\n",
       "    <tr>\n",
       "      <th>1</th>\n",
       "      <td>SOBONKR12A58A7A7E0</td>\n",
       "      <td>0.120052</td>\n",
       "    </tr>\n",
       "    <tr>\n",
       "      <th>2</th>\n",
       "      <td>SOFLJQZ12A6D4FADA6</td>\n",
       "      <td>0.117170</td>\n",
       "    </tr>\n",
       "    <tr>\n",
       "      <th>3</th>\n",
       "      <td>SOWCKVR12A8C142411</td>\n",
       "      <td>0.111409</td>\n",
       "    </tr>\n",
       "    <tr>\n",
       "      <th>4</th>\n",
       "      <td>SOLFXKT12AB017E3E0</td>\n",
       "      <td>0.103681</td>\n",
       "    </tr>\n",
       "    <tr>\n",
       "      <th>5</th>\n",
       "      <td>SOLRGVL12A8C143BC3</td>\n",
       "      <td>0.103394</td>\n",
       "    </tr>\n",
       "    <tr>\n",
       "      <th>6</th>\n",
       "      <td>SOZVCRW12A67ADA0B7</td>\n",
       "      <td>0.102188</td>\n",
       "    </tr>\n",
       "    <tr>\n",
       "      <th>7</th>\n",
       "      <td>SONHVVE12AB018D038</td>\n",
       "      <td>0.101875</td>\n",
       "    </tr>\n",
       "    <tr>\n",
       "      <th>8</th>\n",
       "      <td>SOTWNDJ12A8C143984</td>\n",
       "      <td>0.100895</td>\n",
       "    </tr>\n",
       "    <tr>\n",
       "      <th>9</th>\n",
       "      <td>SOAUWYT12A81C206F1</td>\n",
       "      <td>0.097218</td>\n",
       "    </tr>\n",
       "  </tbody>\n",
       "</table>\n",
       "</div>"
      ],
      "text/plain": [
       "              song_id  likelihood\n",
       "0  SODJWHY12A8C142CCE    0.143798\n",
       "1  SOBONKR12A58A7A7E0    0.120052\n",
       "2  SOFLJQZ12A6D4FADA6    0.117170\n",
       "3  SOWCKVR12A8C142411    0.111409\n",
       "4  SOLFXKT12AB017E3E0    0.103681\n",
       "5  SOLRGVL12A8C143BC3    0.103394\n",
       "6  SOZVCRW12A67ADA0B7    0.102188\n",
       "7  SONHVVE12AB018D038    0.101875\n",
       "8  SOTWNDJ12A8C143984    0.100895\n",
       "9  SOAUWYT12A81C206F1    0.097218"
      ]
     },
     "execution_count": 8,
     "metadata": {},
     "output_type": "execute_result"
    }
   ],
   "source": [
    "user_id = \"19a63dbfea18904260bfe9c35cabb711ce01d2a6\"\n",
    "SpotifyModule._Recommendations.get_similar_tracks(user_id)"
   ]
  },
  {
   "cell_type": "code",
   "execution_count": null,
   "metadata": {},
   "outputs": [],
   "source": []
  },
  {
   "cell_type": "code",
   "execution_count": null,
   "metadata": {},
   "outputs": [],
   "source": []
  },
  {
   "cell_type": "code",
   "execution_count": null,
   "metadata": {},
   "outputs": [],
   "source": [
    "from pyarrow.parquet import ParquetFile\n",
    "import pandas as pd\n",
    "\n",
    "pf = ParquetFile(\"data/parquet/Merged_tracks_data.parquet\")\n",
    "\n",
    "# df : pd.DataFrame = pf.read().to_pandas()\n",
    "print(pf.metadata.schema.names)"
   ]
  },
  {
   "cell_type": "code",
   "execution_count": null,
   "metadata": {},
   "outputs": [],
   "source": []
  }
 ],
 "metadata": {
  "kernelspec": {
   "display_name": "Python 3",
   "language": "python",
   "name": "python3"
  },
  "language_info": {
   "codemirror_mode": {
    "name": "ipython",
    "version": 3
   },
   "file_extension": ".py",
   "mimetype": "text/x-python",
   "name": "python",
   "nbconvert_exporter": "python",
   "pygments_lexer": "ipython3",
   "version": "3.12.1"
  }
 },
 "nbformat": 4,
 "nbformat_minor": 2
}
