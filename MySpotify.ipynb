{
 "cells": [
  {
   "cell_type": "markdown",
   "metadata": {},
   "source": [
    "# MySpotify"
   ]
  },
  {
   "cell_type": "markdown",
   "metadata": {},
   "source": [
    "## Install requirements"
   ]
  },
  {
   "cell_type": "code",
   "execution_count": null,
   "metadata": {},
   "outputs": [],
   "source": [
    "%pip install -r requirements.txt"
   ]
  },
  {
   "cell_type": "markdown",
   "metadata": {},
   "source": [
    "## Initilizing MySpotify Module"
   ]
  },
  {
   "cell_type": "code",
   "execution_count": null,
   "metadata": {},
   "outputs": [],
   "source": [
    "%reload_ext autoreload\n",
    "%autoreload 2\n",
    "\n",
    "DEBUG_MODE = True\n",
    "\n",
    "from MySpotify import MySpotify, os\n",
    "import requests\n",
    "\n",
    "# Need always to reload the link to download the data\n",
    "if not os.path.exists(\"data.zip\"):\n",
    "    download_link = \"\"\n",
    "\n",
    "    response = requests.get(download_link)\n",
    "    with open(\"data.zip\", \"wb\") as file:\n",
    "        file.write(response.content)\n",
    "\n",
    "\n",
    "SpotifyModule = MySpotify(\"data.zip\", DEBUG_MODE)"
   ]
  },
  {
   "cell_type": "markdown",
   "metadata": {},
   "source": [
    "## Preprocessing Data"
   ]
  },
  {
   "cell_type": "markdown",
   "metadata": {},
   "source": [
    "### Convert files from csv to parquet"
   ]
  },
  {
   "cell_type": "code",
   "execution_count": null,
   "metadata": {},
   "outputs": [],
   "source": [
    "SpotifyModule.convert_files()"
   ]
  },
  {
   "cell_type": "markdown",
   "metadata": {},
   "source": [
    "### Merge the Data into one parquet file"
   ]
  },
  {
   "cell_type": "code",
   "execution_count": null,
   "metadata": {},
   "outputs": [],
   "source": [
    "SpotifyModule.PreProcess_Data()"
   ]
  },
  {
   "cell_type": "markdown",
   "metadata": {},
   "source": [
    "## Display DataFrame"
   ]
  },
  {
   "cell_type": "code",
   "execution_count": null,
   "metadata": {},
   "outputs": [],
   "source": [
    "from IPython.display import HTML, display, clear_output\n",
    "\n",
    "def display_scrollable_df(df, height=400):\n",
    "    html = df.to_html()\n",
    "    scrollable = f'<div style=\"height: {height}px; overflow: auto;\">{html}</div>'\n",
    "    display(HTML(scrollable))"
   ]
  },
  {
   "cell_type": "markdown",
   "metadata": {},
   "source": [
    "## Top Tracks"
   ]
  },
  {
   "cell_type": "markdown",
   "metadata": {},
   "source": [
    "### Top 100 tracks by the play count"
   ]
  },
  {
   "cell_type": "code",
   "execution_count": null,
   "metadata": {},
   "outputs": [],
   "source": [
    "TopTracksNum = 100\n",
    "best_tracks = SpotifyModule.get_Top_Tracks(TopTracksNum)\n",
    "display_scrollable_df(best_tracks)"
   ]
  },
  {
   "cell_type": "markdown",
   "metadata": {},
   "source": [
    "### Top 100 tracks by genre"
   ]
  },
  {
   "cell_type": "code",
   "execution_count": null,
   "metadata": {},
   "outputs": [],
   "source": [
    "\n",
    "TopTracksByGenreNum = 100\n",
    "genre_list = [\"Rock\", \"Rap\", \"Jazz\", \"Electronic\", \"Pop\", \"Blues\", \"Country\", \"Reggae\", \"New Age\"]\n",
    "for genre in genre_list:\n",
    "    clear_output(wait=True)\n",
    "    best_tracks_by_genre = SpotifyModule.Get_TopTracks_By_Genre(TopTracksByGenreNum, genre)\n",
    "    display_scrollable_df(best_tracks_by_genre)\n",
    "    key = input(\"Press Enter to continue to the next genre, or type something and press Enter to exit: \")\n",
    "    if key != \"\":\n",
    "        break\n"
   ]
  },
  {
   "cell_type": "markdown",
   "metadata": {},
   "source": [
    "## Collections"
   ]
  },
  {
   "cell_type": "markdown",
   "metadata": {},
   "source": [
    "### Using Baseline"
   ]
  },
  {
   "cell_type": "code",
   "execution_count": null,
   "metadata": {},
   "outputs": [],
   "source": [
    "Collections = [\"love\", \"war\",\"happiness\", \"loneliness\", \"money\"]\n",
    "Num_of_tracks = 50\n",
    "for theme in Collections:\n",
    "    clear_output(wait=True)\n",
    "    Baseline = SpotifyModule.Baseline(theme, Num_of_tracks)\n",
    "    display_scrollable_df(Baseline)\n",
    "    key = input(\"Press Enter to continue to the next genre, or type something and press Enter to exit: \")\n",
    "    if key != \"\":\n",
    "        break"
   ]
  },
  {
   "cell_type": "markdown",
   "metadata": {},
   "source": [
    "### Using Word2Vec"
   ]
  },
  {
   "cell_type": "code",
   "execution_count": null,
   "metadata": {},
   "outputs": [],
   "source": [
    "Collections = [\"love\", \"war\",\"happiness\", \"loneliness\", \"money\"]\n",
    "Num_of_tracks = 50\n",
    "for theme in Collections:\n",
    "    clear_output(wait=True)\n",
    "    Word2Vec = SpotifyModule.Word2Vec(theme, Num_of_tracks)\n",
    "    display_scrollable_df(Word2Vec)\n",
    "    key = input(\"Press Enter to continue to the next genre, or type something and press Enter to exit: \")\n",
    "    if key != \"\":\n",
    "        break"
   ]
  },
  {
   "cell_type": "markdown",
   "metadata": {},
   "source": [
    "### Using Classifier"
   ]
  },
  {
   "cell_type": "code",
   "execution_count": null,
   "metadata": {},
   "outputs": [],
   "source": [
    "Collections = [\"love\", \"war\",\"happiness\", \"loneliness\", \"money\"]\n",
    "# Num_of_tracks = 50\n",
    "# for theme in Collections:\n",
    "#     clear_output(wait=True)\n",
    "#     Classification = SpotifyModule.Classification(theme, Num_of_tracks)\n",
    "#     display_scrollable_df(Classification)\n",
    "#     key = input(\"Press Enter to continue to the next genre, or type something and press Enter to exit: \")\n",
    "#     if key != \"\":\n",
    "#         break\n",
    "\n",
    "# Classification = SpotifyModule.Classification(theme, Num_of_tracks)\n",
    "Classification = SpotifyModule.Classification(Collections, \"\")"
   ]
  },
  {
   "cell_type": "code",
   "execution_count": null,
   "metadata": {},
   "outputs": [],
   "source": [
    "display_scrollable_df(SpotifyModule._Labeled_tracks)"
   ]
  },
  {
   "cell_type": "code",
   "execution_count": null,
   "metadata": {},
   "outputs": [],
   "source": [
    "from pyarrow.parquet import ParquetFile\n",
    "import pandas as pd\n",
    "\n",
    "pf = ParquetFile(\"data/parquet/play_count.parquet\")\n",
    "\n",
    "df : pd.DataFrame = pf.read().to_pandas()"
   ]
  },
  {
   "cell_type": "code",
   "execution_count": null,
   "metadata": {},
   "outputs": [],
   "source": [
    "print(len(df))"
   ]
  },
  {
   "cell_type": "code",
   "execution_count": null,
   "metadata": {},
   "outputs": [],
   "source": [
    "from nltk.corpus import wordnet\n",
    "from nltk.stem import PorterStemmer\n",
    "from spellchecker import SpellChecker\n",
    "\n",
    "def get_word_themes(word):\n",
    "    stemmer = PorterStemmer()\n",
    "    word = stemmer.stem(word)\n",
    "    spell = SpellChecker()\n",
    "    word = spell.correction(word)\n",
    "    synsets = wordnet.synsets(word)\n",
    "\n",
    "    synonyms = set()\n",
    "    for synset in synsets:\n",
    "        for lemma in synset.lemma_names():\n",
    "            synonyms.add(lemma)\n",
    "\n",
    "    return list(synonyms)\n",
    "\n",
    "print(\"Synsets for 'happiness':\", get_word_themes(\"happiness\"))"
   ]
  },
  {
   "cell_type": "code",
   "execution_count": null,
   "metadata": {},
   "outputs": [],
   "source": [
    "from pyarrow.parquet import ParquetFile\n",
    "pf = ParquetFile(\"data/parquet/mxm_dataset_train.parquet\")\n",
    "print(pf.schema.names)\n",
    "df.head(0)"
   ]
  },
  {
   "cell_type": "code",
   "execution_count": null,
   "metadata": {},
   "outputs": [],
   "source": []
  }
 ],
 "metadata": {
  "kernelspec": {
   "display_name": "Python 3",
   "language": "python",
   "name": "python3"
  },
  "language_info": {
   "codemirror_mode": {
    "name": "ipython",
    "version": 3
   },
   "file_extension": ".py",
   "mimetype": "text/x-python",
   "name": "python",
   "nbconvert_exporter": "python",
   "pygments_lexer": "ipython3",
   "version": "3.12.1"
  }
 },
 "nbformat": 4,
 "nbformat_minor": 2
}
